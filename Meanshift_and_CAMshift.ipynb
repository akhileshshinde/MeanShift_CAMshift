{
 "cells": [
  {
   "cell_type": "code",
   "execution_count": 3,
   "id": "a503d812-7527-4fc8-8228-82fe14bc8cb2",
   "metadata": {},
   "outputs": [],
   "source": [
    "import numpy as np\n",
    "import cv2"
   ]
  },
  {
   "cell_type": "code",
   "execution_count": 4,
   "id": "0fa4121f-88de-4f6c-bade-02ce68b4176e",
   "metadata": {},
   "outputs": [],
   "source": [
    "cap = cv2.VideoCapture(0)\n",
    "\n",
    "ret, frame = cap.read()\n",
    "\n",
    "face_cascade = cv2.CascadeClassifier('Downloads/Computer-Vision-with-Python/Computer-Vision-with-Python/DATA/haarcascades/haarcascade_frontalface_default.xml')\n",
    "face_rects = face_cascade.detectMultiScale(frame)\n",
    "\n",
    "if len(face_rects) > 0:\n",
    "    (face_x, face_y, w, h) = tuple(face_rects[0])\n",
    "    track_window = (face_x, face_y, w, h)\n",
    "    roi = frame[face_y:face_y + h, face_x:face_x + w]\n",
    "\n",
    "#(face_x,face_y,w,h) = tuple(face_rects[0])\n",
    "#track_window = (face_x,face_y,w,h)\n",
    "#roi = frame[face_y:face_y+h,face_w:face_x+w]\n",
    "\n",
    "    hsv_roi = cv2.cvtColor(roi,cv2.COLOR_BGR2HSV)\n",
    "\n",
    "    roi_hist = cv2.calcHist([hsv_roi],[0],None,[180],[0,180])\n",
    " \n",
    "    cv2.normalize(roi_hist,roi_hist,0,255,cv2.NORM_MINMAX)\n",
    "\n",
    "    term_crit = (cv2.TERM_CRITERIA_EPS | cv2.TERM_CRITERIA_COUNT,10,1)\n",
    "\n",
    "while True:\n",
    "    ret,frame = cap.read()\n",
    "    \n",
    "    if ret == True:\n",
    "         hsv = cv2.cvtColor(frame , cv2.COLOR_BGR2HSV)\n",
    "            \n",
    "         dst = cv2.calcBackProject([hsv],[0],roi_hist,[0,180],1)\n",
    "        \n",
    "        ##################################################################\n",
    "         \n",
    "            \n",
    "         ret, track_window = cv2.CamShift(dst,track_window,term_crit)\n",
    "         pts = cv2.boxPoints(ret)\n",
    "         pts = np.int0(pts)\n",
    "         img2 = cv2.polylines(frame,[pts],True,(0,0,255),5)\n",
    "            \n",
    "            \n",
    "            \n",
    "         #ret , track_window = cv2.meanShift(dst , track_window,term_crit)   \n",
    "         #x,y,w,h = track_window\n",
    "         #img2 = cv2.rectangle(frame ,(x,y),(x+w,y+h),(0,0,255),5)\n",
    "        \n",
    "        ##################################################################\n",
    "         cv2.imshow('img',img2)\n",
    "        \n",
    "         k = cv2.waitKey(1) & 0xFF\n",
    "         if k == 27:\n",
    "            break\n",
    "    else:\n",
    "        break\n",
    "        \n",
    "cap.release()\n",
    "cv2.destroyAllWindows()\n",
    "         "
   ]
  },
  {
   "cell_type": "code",
   "execution_count": null,
   "id": "634b52e4-6633-407b-b077-16084fe132f6",
   "metadata": {},
   "outputs": [],
   "source": []
  },
  {
   "cell_type": "code",
   "execution_count": null,
   "id": "cacf4957-1246-4c96-ba0e-75d66a51c649",
   "metadata": {},
   "outputs": [],
   "source": []
  }
 ],
 "metadata": {
  "kernelspec": {
   "display_name": "Python 3 (ipykernel)",
   "language": "python",
   "name": "python3"
  },
  "language_info": {
   "codemirror_mode": {
    "name": "ipython",
    "version": 3
   },
   "file_extension": ".py",
   "mimetype": "text/x-python",
   "name": "python",
   "nbconvert_exporter": "python",
   "pygments_lexer": "ipython3",
   "version": "3.10.9"
  }
 },
 "nbformat": 4,
 "nbformat_minor": 5
}
